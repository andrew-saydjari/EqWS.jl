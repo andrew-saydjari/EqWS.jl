{
 "cells": [
  {
   "cell_type": "markdown",
   "metadata": {},
   "source": [
    "# Getting Started with WST in julia\n",
    "Core Francisco Park"
   ]
  },
  {
   "cell_type": "markdown",
   "metadata": {},
   "source": [
    "Don't worry, print in python is still print (doesn't jump line though)"
   ]
  },
  {
   "cell_type": "code",
   "execution_count": 4,
   "metadata": {},
   "outputs": [
    {
     "name": "stdout",
     "output_type": "stream",
     "text": [
      "Hello World"
     ]
    }
   ],
   "source": [
    "print(\"Hello World\")"
   ]
  },
  {
   "cell_type": "markdown",
   "metadata": {},
   "source": [
    "You would have noticed that it takes quite a bit just to print that. Julia compiles your code right before its ran, if you re-run the cell, it will be fast."
   ]
  },
  {
   "cell_type": "code",
   "execution_count": 5,
   "metadata": {},
   "outputs": [
    {
     "data": {
      "text/plain": [
       "1"
      ]
     },
     "execution_count": 5,
     "metadata": {},
     "output_type": "execute_result"
    }
   ],
   "source": [
    "a=1"
   ]
  },
  {
   "cell_type": "markdown",
   "metadata": {},
   "source": [
    "julia prints the last assignment. To avoid this, put a semicolon at the end"
   ]
  },
  {
   "cell_type": "code",
   "execution_count": 6,
   "metadata": {},
   "outputs": [],
   "source": [
    "a=1;"
   ]
  },
  {
   "cell_type": "markdown",
   "metadata": {},
   "source": [
    "This is how you can transfer your numpy array from python to julia:\n",
    "\n",
    "```python\n",
    "import numpy as np\n",
    "arr=np.array([[1,2,3],[4,5,6]]).astype(np.float64)\n",
    "arr.tofile(\"f.bin\")\n",
    "```\n",
    "\n",
    "Make sure not to use save, but tofile  in order to save it as a binary array"
   ]
  },
  {
   "cell_type": "code",
   "execution_count": 7,
   "metadata": {},
   "outputs": [
    {
     "data": {
      "text/plain": [
       "(3, 2)"
      ]
     },
     "execution_count": 7,
     "metadata": {},
     "output_type": "execute_result"
    }
   ],
   "source": [
    "y = Array{Float64}(undef, 3, 2);\n",
    "read!(\"f.bin\", y);\n",
    "size(y)"
   ]
  },
  {
   "cell_type": "markdown",
   "metadata": {},
   "source": [
    "multidimensional arrays are native in julia. the size function returns the equivalent of arr.shape in numpy.\n",
    "\n",
    "Julia uses F-order (F for Fortran) also called Column-major, (numpy is C-ordered)\n",
    "\n",
    "Thus to reproduce the arr as in numpy above, we need to import it with the dimensions flipped and then transpose it.\n",
    "\n",
    "We can use permutedims for any multi dimensional transpose."
   ]
  },
  {
   "cell_type": "code",
   "execution_count": 8,
   "metadata": {},
   "outputs": [
    {
     "data": {
      "text/plain": [
       "2×3 Matrix{Float64}:\n",
       " 1.0  2.0  3.0\n",
       " 4.0  5.0  6.0"
      ]
     },
     "execution_count": 8,
     "metadata": {},
     "output_type": "execute_result"
    }
   ],
   "source": [
    "y=permutedims(y,[2 1])"
   ]
  },
  {
   "cell_type": "code",
   "execution_count": null,
   "metadata": {},
   "outputs": [],
   "source": []
  },
  {
   "cell_type": "code",
   "execution_count": null,
   "metadata": {},
   "outputs": [],
   "source": []
  },
  {
   "cell_type": "code",
   "execution_count": null,
   "metadata": {},
   "outputs": [],
   "source": []
  }
 ],
 "metadata": {
  "kernelspec": {
   "display_name": "Julia 1.6.0-rc1",
   "language": "julia",
   "name": "julia-1.6"
  },
  "language_info": {
   "file_extension": ".jl",
   "mimetype": "application/julia",
   "name": "julia",
   "version": "1.6.0"
  }
 },
 "nbformat": 4,
 "nbformat_minor": 4
}
